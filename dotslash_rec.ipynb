{
  "cells": [
    {
      "cell_type": "code",
      "execution_count": null,
      "metadata": {
        "colab": {
          "background_save": true
        },
        "id": "H5oJZjc0rg1U",
        "outputId": "02bdb239-8832-4a74-b489-71213eadbf98"
      },
      "outputs": [
        {
          "name": "stdout",
          "output_type": "stream",
          "text": [
            "\u001b[?25l     \u001b[90m━━━━━━━━━━━━━━━━━━━━━━━━━━━━━━━━━━━━━━━━\u001b[0m \u001b[32m0.0/137.4 kB\u001b[0m \u001b[31m?\u001b[0m eta \u001b[36m-:--:--\u001b[0m\r\u001b[2K     \u001b[91m━━━━━━━━\u001b[0m\u001b[91m╸\u001b[0m\u001b[90m━━━━━━━━━━━━━━━━━━━━━━━━━━━━━━━\u001b[0m \u001b[32m30.7/137.4 kB\u001b[0m \u001b[31m1.5 MB/s\u001b[0m eta \u001b[36m0:00:01\u001b[0m\r\u001b[2K     \u001b[91m━━━━━━━━━━━━━━━━━━━━━━━━━━\u001b[0m\u001b[91m╸\u001b[0m\u001b[90m━━━━━━━━━━━━━\u001b[0m \u001b[32m92.2/137.4 kB\u001b[0m \u001b[31m1.5 MB/s\u001b[0m eta \u001b[36m0:00:01\u001b[0m\r\u001b[2K     \u001b[90m━━━━━━━━━━━━━━━━━━━━━━━━━━━━━━━━━━━━━━━━\u001b[0m \u001b[32m137.4/137.4 kB\u001b[0m \u001b[31m1.4 MB/s\u001b[0m eta \u001b[36m0:00:00\u001b[0m\n",
            "\u001b[?25h"
          ]
        }
      ],
      "source": [
        "!pip install -q -U google-generativeai"
      ]
    },
    {
      "cell_type": "code",
      "execution_count": null,
      "metadata": {
        "colab": {
          "background_save": true
        },
        "id": "QiGGWVw8rwJ4"
      },
      "outputs": [],
      "source": [
        "import pathlib\n",
        "import textwrap\n",
        "\n",
        "import google.generativeai as genai\n",
        "\n",
        "from IPython.display import display\n",
        "from IPython.display import Markdown\n",
        "\n",
        "\n",
        "def to_markdown(text):\n",
        "  text = text.replace('•', '  *')\n",
        "  return Markdown(textwrap.indent(text, '> ', predicate=lambda _: True))"
      ]
    },
    {
      "cell_type": "code",
      "execution_count": null,
      "metadata": {
        "colab": {
          "background_save": true
        },
        "id": "_VAzErm_ryCd"
      },
      "outputs": [],
      "source": [
        "# Used to securely store your API key\n",
        "from google.colab import userdata"
      ]
    },
    {
      "cell_type": "code",
      "execution_count": null,
      "metadata": {
        "colab": {
          "background_save": true
        },
        "id": "qEFkbo-Ar0fP"
      },
      "outputs": [],
      "source": [
        "import os\n",
        "os.environ['GOOGLE_API_KEY']=\"\"\n",
        "genai.configure(api_key = \"\")"
      ]
    },
    {
      "cell_type": "code",
      "execution_count": null,
      "metadata": {
        "colab": {
          "background_save": true
        },
        "id": "SJOpIdstr3R-"
      },
      "outputs": [],
      "source": [
        "genai.configure(api_key=os.environ['GOOGLE_API_KEY'])"
      ]
    },
    {
      "cell_type": "code",
      "execution_count": null,
      "metadata": {
        "id": "A6o-M_AQr6xV"
      },
      "outputs": [],
      "source": [
        "for m in genai.list_models():\n",
        "  if 'generateContent' in m.supported_generation_methods:\n",
        "    print(m.name)"
      ]
    },
    {
      "cell_type": "code",
      "execution_count": null,
      "metadata": {
        "id": "gX-jwhRNr87F"
      },
      "outputs": [],
      "source": [
        "model = genai.GenerativeModel('gemini-pro')"
      ]
    },
    {
      "cell_type": "code",
      "execution_count": null,
      "metadata": {
        "id": "-xa8tlhzr_Jh"
      },
      "outputs": [],
      "source": [
        "%%time\n",
        "response = model.generate_content(\"if my mood is currently Sad, depressed, love, non-suicidal what kind of songs would you reccomend to improve mood and give links of the songs\")"
      ]
    },
    {
      "cell_type": "code",
      "execution_count": null,
      "metadata": {
        "id": "CF8zjHPcsBnn"
      },
      "outputs": [],
      "source": [
        "to_markdown(response.text)"
      ]
    },
    {
      "cell_type": "code",
      "execution_count": null,
      "metadata": {
        "id": "UkGxfc6h648a"
      },
      "outputs": [],
      "source": [
        "%%time\n",
        "def make_prompt(query):\n",
        "\n",
        "  prompt = model.generate_content(\"\"\"You are a helpful and joyous mental therapy assistant that recommends songs,\n",
        "    \\youtube videos, podcasts and blogs that will help in improving the users mood. Always answer as helpfully and cheerfully as possible,\\\n",
        "    while being safe. \\\n",
        "    Your answers should not include any harmful, unethical, racist, sexist, toxic, dangerous, or illegal content.\\\n",
        "    Please ensure that your responses are positive in nature. the mood of the user will be given in this format {tag1}{tag2}{tag3}{tag4} and you will reccomend youtube videos, podcasts\\\n",
        "    and blogs that will help in improving the users mood in this format  : '{relevant_passage}' \\\n",
        "    please don't share false information.\n",
        "    QUESTION: 'tag1:{tag1},tag2:{tag2},tag3:{tag3},tag4:{tag4}'\n",
        "    PASSAGE: ' relevant tags with links'\n",
        "\n",
        "      ANSWER:\n",
        "    \"\"\").format(query=query)"
      ]
    },
    {
      "cell_type": "code",
      "execution_count": null,
      "metadata": {
        "colab": {
          "background_save": true
        },
        "id": "fj1v93trs_IJ",
        "outputId": "54cdd81d-d0d3-43cf-9f11-9fafb4f66511"
      },
      "outputs": [
        {
          "name": "stdout",
          "output_type": "stream",
          "text": [
            "{tired}\n",
            "\n",
            "**YouTube Videos:**\n",
            "\n",
            "* \"The Science of Taking a Nap\" by Kurzgesagt – In a TimeLapse: https://www.youtube.com/watch?v=fCp42p_V01c\n",
            "* \"How to Sleep Better: The Ultimate Guide\" by Dr. Andrew Huberman: https://www.youtube.com/watch?v=nm1QOd3iIls\n",
            "* \"ASMR Sleep Sounds: Calming Rain and Thunderstorms\" by Relaxing White Noise: https://www.youtube.com/watch?v=0-QNwlp39qU\n",
            "\n",
            "**Podcasts:**\n",
            "\n",
            "* \"The Sleep Revolution\" by Arianna Huffington: https://open.spotify.com/show/1gY9u3LnlUIB0BpwbLqFTs\n",
            "* \"Sleep Smarter\" by Shawn Stevenson: https://podcasts.apple.com/us/podcast/sleep-smarter/id1173524305\n",
            "* \"The Dreamers Podcast\" by Joyy Foundation: https://podcasts.apple.com/us/podcast/the-dreamers-podcast/id1496942811\n",
            "\n",
            "**Blogs:**\n",
            "\n",
            "* \"How to Get Better Sleep: 10 Tips for a Good Night's Rest\" by the Mayo Clinic: https://www.mayoclinic.org/healthy-lifestyle/adult-health/in-depth/sleep/art-20045703\n",
            "* \"The 5 Best Sleep Hacks for Tired Parents\" by Verywell Family: https://www.verywellfamily.com/sleep-hacks-for-tired-parents-5204922\n",
            "* \"10 Ways to Beat Fatigue and Boost Your Energy\" by Psychology Today: https://www.psychologytoday.com/us/blog/the-athletes-way/201905/10-ways-beat-fatigue-and-boost-your-energy\n",
            "<IPython.core.display.Markdown object>\n"
          ]
        }
      ],
      "source": [
        "import google.generativeai as genai\n",
        "model = genai.GenerativeModel('gemini-pro')\n",
        "\n",
        "\n",
        "def generate_recommendations(tags):\n",
        "    prompt = f\"You are a helpful and joyous mental therapy assistant that recommends songs, YouTube videos, podcasts, and blogs that will help in improving the user's mood. Always answer as helpfully and cheerfully as possible, while being safe. Your answers should not include any harmful, unethical, racist, sexist, toxic, dangerous, or illegal content. Please ensure that your responses are positive in nature. The mood of the user will be given in this format {tags} and you will recommend YouTube videos, podcasts, and blogs that will help in improving the user's mood.\"\n",
        "    recommendations = model.generate_content(prompt)\n",
        "    print(recommendations.text)\n",
        "    return recommendations\n",
        "\n",
        "\n",
        "user_tags = \"{sad}{tired}{depression}{suicide}\"\n",
        "\n",
        "\n",
        "recommendations = generate_recommendations(user_tags)\n",
        "\n",
        "print(to_markdown(recommendations.text))"
      ]
    },
    {
      "cell_type": "code",
      "execution_count": null,
      "metadata": {
        "id": "H7ZU-FB7-mFT"
      },
      "outputs": [],
      "source": [
        "from transformers import pipeline\n",
        "\n",
        "\n",
        "classifier_1 = pipeline(model=\"facebook/bart-large-mnli\")\n",
        "\"\"\"pipe(\"I have a problem with my iphone that needs to be resolved asap!\",\n",
        "    candidate_labels=[\"urgent\", \"not urgent\", \"phone\", \"tablet\", \"computer\"],\n",
        ")\"\"\"\n",
        "\n",
        "classifier_2 = pipeline(\"text-classification\", model=\"vibhorag101/roberta-base-suicide-prediction-phr-v2\")"
      ]
    },
    {
      "cell_type": "code",
      "execution_count": null,
      "metadata": {
        "id": "x8Zvhog9EJ85"
      },
      "outputs": [],
      "source": [
        "import google.generativeai as genai\n",
        "\n",
        "\n",
        "model = genai.GenerativeModel('gemini-pro')\n",
        "\n",
        "\n",
        "def generate_recommendations(tags):\n",
        "\n",
        "    prompt = f\"You are a helpful , friendly and joyous mental therapy assistant who recommends songs, \\\n",
        "    YouTube videos, podcasts, blogs, and activities that will help in improving the user's mood. Always answer as helpfully and \\\n",
        "    cheerfully as possible, while being safe. Your answers should not include any harmful, unethical, racist, sexist, \\\n",
        "    toxic, dangerous, or illegal content. If you don't know the answer to a question, please don't share false information.  Please ensure that your responses are positive and friendly in nature.\\\n",
        "     The mood of the user will be given in this format {tags} and you will recommend YouTube videos, podcasts, and blogs that will help in improving\\\n",
        "    the user's mood.\\\n",
        "    output should be of the format\\\n",
        "    A reaffirming sentence that if friendly and helps the user fell calm\\\n",
        "    The list of songs and their links\\\n",
        "    The list of videos and their links\\\n",
        "    The list of podcasts and their links\\\n",
        "    The list of activities to list the mood\"\n",
        "\n",
        "\n",
        "    recommendations = model.generate_content(prompt)\n",
        "    print(recommendations.text)\n",
        "    #return recommendations.text\n",
        "\n",
        "# Example user input tags\n",
        "# Replace this with the actual user input tags\n",
        "\n",
        "# Generate recommendations based on user input tags\n",
        "#recommendations = generate_recommendations(user_tags)\n",
        "\n",
        "# Display recommendations to the user\n",
        "#print(to_markdown(recommendations.text))"
      ]
    },
    {
      "cell_type": "code",
      "execution_count": null,
      "metadata": {
        "id": "4cJcJayTNpVI"
      },
      "outputs": [],
      "source": [
        "\n",
        "model = genai.GenerativeModel('gemini-pro')\n",
        "\n",
        "# Function to generate recommendations based on tags\n",
        "def generate_recommendations_1(tags):\n",
        "\n",
        "    prompt = f\"\"\"You are  friendly and supportive mental therapy assistant, you are  here to help lift the users\\\n",
        "    spirits and brighten their day!The user will share how they are feeling using the following format: {tags}.\\\n",
        "   You are here to recommend songs,\\\n",
        "    YouTube videos, podcasts, blogs, and activities that will help them in bringing a smile to their face! \\\n",
        "    Remember, your responses are always positive, friendly, and safe, free from any harmful, unethical, or \\\n",
        "    inappropriate content.If you don't know the answer to a question, please don't share false information. spread some joy!\\\n",
        "    do not print the tag of their mood like sad trauma tired etc.\\\n",
        "    Your output will be structured as follows:(REMEMBER to give the output in JSON format)\\\n",
        "    start by(giving a warm and reassuring message tailored to their mood to help them feel calm and supported.)\\\n",
        "    then give a (curated list of uplifting songs with links.)\\\n",
        "    then give a( engaging YouTube videos guaranteed to bring a smile).\\\n",
        "    then give a( list of inspiring podcasts to brighten their day.)\\\n",
        "    and in the last give( a list of fun activities tailored to their mood.) give the output in JSON format\\\n",
        "    json template:\n",
        "    message:\n",
        "    songs_list:\n",
        "    video_list:\n",
        "    podcast_list:\n",
        "    activity_list:\n",
        "    \"\"\"\n",
        "\n",
        "\n",
        "    recommendations = model.generate_content(prompt)\n",
        "    print(recommendations.text)"
      ]
    },
    {
      "cell_type": "code",
      "execution_count": null,
      "metadata": {
        "id": "D4FHgJRENd7f"
      },
      "outputs": [],
      "source": []
    },
    {
      "cell_type": "code",
      "execution_count": null,
      "metadata": {
        "id": "fUhmQkdZBgY3"
      },
      "outputs": [],
      "source": [
        "candidate_labels=['loneliness','depression','anxiety','tired','fear','sad','trauma','happy','joy','calm','nice','love','hope','optimistic','confidence']\n",
        "def classify(statement):\n",
        "    tags = classifier_1(statement, candidate_labels)['labels'][:3]\n",
        "    truncated_statement = statement[:512]\n",
        "    tags.append(classifier_2(truncated_statement)[0]['label'])\n",
        "    output={'Statement': statement, 'Tag1': tags[0], 'Tag2': tags[1], 'Tag3': tags[2],'Tag4':tags[3]}\n",
        "    user_tags = \"{%s}{%s}{%s}{%s}\" % (output['Tag1'], output['Tag2'], output['Tag3'], output['Tag4'])\n",
        "    print(user_tags)\n",
        "    recommendations = generate_recommendations(user_tags)\n",
        "\n"
      ]
    },
    {
      "cell_type": "code",
      "execution_count": null,
      "metadata": {
        "id": "JCyH3MMlBc1J"
      },
      "outputs": [],
      "source": [
        "journal_entry=input()\n",
        "classify(journal_entry)"
      ]
    },
    {
      "cell_type": "code",
      "execution_count": null,
      "metadata": {
        "id": "MSMxinnqBcFD"
      },
      "outputs": [],
      "source": [
        "journal_entry=input()\n",
        "classify(journal_entry)\n"
      ]
    },
    {
      "cell_type": "code",
      "execution_count": null,
      "metadata": {
        "id": "CA-3MKnrD9yZ"
      },
      "outputs": [],
      "source": [
        "classify(\"School is starting soon, and I'm just dreading it... It's around a week until school and I'm just depressed. It's 2:37am. I tried sleeping but couldn't. I just can't stop worrying about school. My parents say if I prepare myself it'll be fine, but it never is. And it really hasn't been since around 5th grade. For about 5 years my social life has just been crumbling and I've slipped further and further into introversion and depressive thoughts as social anxiety grew. I know I shouldn't, but I hate myself for it. I hate myself for being so awkward around people. I hate being at school as it reminds me of how much I am pathetic at social interactions. Three more years of high school is daunting. What's after that... is terrifying. I swear, the only thing keeping me from completely losing my shit is music and reddit. I feel like I just want to give up on everything, but I know I shouldn't. How does one give themselves drive to keep going, have hope where hope is scarce?Thanks for listening to my TedTalk\")"
      ]
    },
    {
      "cell_type": "code",
      "execution_count": null,
      "metadata": {
        "id": "nkf1YKeHCcpO"
      },
      "outputs": [],
      "source": [
        "\"\"\"journal_entry=input()\n",
        "classify(journal_entry)\"\"\""
      ]
    },
    {
      "cell_type": "code",
      "execution_count": null,
      "metadata": {
        "id": "KTUFmBtQCnhn"
      },
      "outputs": [],
      "source": [
        "candidate_labels=['loneliness','depression','anxiety','tired','fear','sad','trauma','happy','joy','calm','nice','love','hope','optimistic','confidence']\n",
        "def classify_1(statement):\n",
        "    tags = classifier_1(statement, candidate_labels)['labels'][:3]\n",
        "    truncated_statement = statement[:512]\n",
        "    tags.append(classifier_2(truncated_statement)[0]['label'])\n",
        "    output={'Statement': statement, 'Tag1': tags[0], 'Tag2': tags[1], 'Tag3': tags[2],'Tag4':tags[3]}\n",
        "    user_tags = \"{%s}{%s}{%s}{%s}\" % (output['Tag1'], output['Tag2'], output['Tag3'], output['Tag4'])\n",
        "    #print(user_tags)\n",
        "    recommendations = generate_recommendations_1(user_tags)\n",
        "    return  recommendations"
      ]
    },
    {
      "cell_type": "code",
      "execution_count": null,
      "metadata": {
        "id": "M3ZeYnpFCPb8"
      },
      "outputs": [],
      "source": [
        "journal_entry=input()\n",
        "j_output=classify_1(journal_entry)"
      ]
    },
    {
      "cell_type": "code",
      "execution_count": null,
      "metadata": {
        "id": "uCVnBNAnwTml"
      },
      "outputs": [],
      "source": [
        "#!pip install streamlit"
      ]
    },
    {
      "cell_type": "code",
      "execution_count": null,
      "metadata": {
        "id": "zzsM7Gc5wMHf"
      },
      "outputs": [],
      "source": []
    },
    {
      "cell_type": "code",
      "execution_count": null,
      "metadata": {
        "id": "iNwiTINWtsVo"
      },
      "outputs": [],
      "source": [
        "\n"
      ]
    },
    {
      "cell_type": "code",
      "execution_count": null,
      "metadata": {
        "id": "BxFHUL6mmz3v"
      },
      "outputs": [],
      "source": []
    },
    {
      "cell_type": "code",
      "execution_count": null,
      "metadata": {
        "id": "RtfqwZ5YtKCE"
      },
      "outputs": [],
      "source": []
    }
  ],
  "metadata": {
    "colab": {
      "provenance": [],
      "gpuType": "T4"
    },
    "kernelspec": {
      "display_name": "Python 3",
      "name": "python3"
    },
    "language_info": {
      "name": "python"
    },
    "accelerator": "GPU"
  },
  "nbformat": 4,
  "nbformat_minor": 0
}
